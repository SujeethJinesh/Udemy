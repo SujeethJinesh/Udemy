{
 "cells": [
  {
   "cell_type": "markdown",
   "metadata": {},
   "source": [
    "# Mean, Median, Mode, and introducing NumPy"
   ]
  },
  {
   "cell_type": "markdown",
   "metadata": {},
   "source": [
    "## Mean vs. Median"
   ]
  },
  {
   "cell_type": "markdown",
   "metadata": {},
   "source": [
    "Let's create some fake income data, centered around 27,000 with a normal distribution and standard deviation of 15,000, with 10,000 data points. (We'll discuss those terms more later, if you're not familiar with them.)\n",
    "\n",
    "Then, compute the mean (average) - it should be close to 27,000:"
   ]
  },
  {
   "cell_type": "code",
   "execution_count": 8,
   "metadata": {
    "collapsed": false
   },
   "outputs": [
    {
     "data": {
      "text/plain": [
       "26948.842344809222"
      ]
     },
     "execution_count": 8,
     "metadata": {},
     "output_type": "execute_result"
    }
   ],
   "source": [
    "import numpy as np\n",
    "\n",
    "incomes = np.random.normal(27000, 15000, 10000)\n",
    "np.mean(incomes)"
   ]
  },
  {
   "cell_type": "markdown",
   "metadata": {},
   "source": [
    "We can segment the income data into 50 buckets, and plot it as a histogram:"
   ]
  },
  {
   "cell_type": "code",
   "execution_count": 9,
   "metadata": {
    "collapsed": false
   },
   "outputs": [
    {
     "data": {
      "image/png": "[encoded data removed]",
      "text/plain": [
       "<matplotlib.figure.Figure at 0x106423128>"
      ]
     },
     "metadata": {},
     "output_type": "display_data"
    }
   ],
   "source": [
    "%matplotlib inline\n",
    "import matplotlib.pyplot as plt\n",
    "plt.hist(incomes, 50)\n",
    "plt.show()"
   ]
  },
  {
   "cell_type": "markdown",
   "metadata": {},
   "source": [
    "Now compute the median - since we have a nice, even distribution it too should be close to 27,000:"
   ]
  },
  {
   "cell_type": "code",
   "execution_count": 10,
   "metadata": {
    "collapsed": false
   },
   "outputs": [
    {
     "data": {
      "text/plain": [
       "26801.169505406222"
      ]
     },
     "execution_count": 10,
     "metadata": {},
     "output_type": "execute_result"
    }
   ],
   "source": [
    "np.median(incomes)"
   ]
  },
  {
   "cell_type": "markdown",
   "metadata": {},
   "source": [
    "Now we'll add Donald Trump into the mix. Darn income inequality!"
   ]
  },
  {
   "cell_type": "code",
   "execution_count": 11,
   "metadata": {
    "collapsed": false
   },
   "outputs": [],
   "source": [
    "incomes = np.append(incomes, [1000000000])"
   ]
  },
  {
   "cell_type": "markdown",
   "metadata": {},
   "source": [
    "The median won't change much, but the mean does:"
   ]
  },
  {
   "cell_type": "code",
   "execution_count": 12,
   "metadata": {
    "collapsed": false
   },
   "outputs": [
    {
     "data": {
      "text/plain": [
       "26801.465270738154"
      ]
     },
     "execution_count": 12,
     "metadata": {},
     "output_type": "execute_result"
    }
   ],
   "source": [
    "np.median(incomes)"
   ]
  },
  {
   "cell_type": "code",
   "execution_count": 13,
   "metadata": {
    "collapsed": false
   },
   "outputs": [
    {
     "data": {
      "text/plain": [
       "126936.14872993623"
      ]
     },
     "execution_count": 13,
     "metadata": {},
     "output_type": "execute_result"
    }
   ],
   "source": [
    "np.mean(incomes)"
   ]
  },
  {
   "cell_type": "markdown",
   "metadata": {},
   "source": [
    "## Mode"
   ]
  },
  {
   "cell_type": "markdown",
   "metadata": {},
   "source": [
    "Next, let's generate some fake age data for 500 people:"
   ]
  },
  {
   "cell_type": "code",
   "execution_count": 14,
   "metadata": {
    "collapsed": false
   },
   "outputs": [
    {
     "data": {
      "text/plain": [
       "array([73, 72, 74, 23, 48, 21, 41, 65, 46, 35, 87, 34, 80, 44, 75, 83, 53,\n",
       "       49, 52, 80, 66, 64, 22, 23, 83, 21, 29, 39, 81, 87, 87, 65, 44, 29,\n",
       "       65, 57, 83, 62, 24, 25, 50, 81, 47, 26, 66, 69, 56, 36, 89, 76, 74,\n",
       "       28, 88, 52, 41, 55, 84, 52, 42, 85, 66, 88, 45, 71, 84, 34, 50, 22,\n",
       "       55, 83, 18, 64, 25, 83, 40, 46, 23, 68, 27, 73, 68, 67, 23, 66, 41,\n",
       "       61, 34, 34, 65, 77, 24, 34, 45, 21, 84, 72, 66, 37, 63, 88, 77, 35,\n",
       "       38, 37, 70, 54, 86, 46, 74, 22, 66, 43, 42, 49, 76, 87, 37, 19, 54,\n",
       "       60, 25, 69, 36, 19, 79, 79, 71, 34, 76, 77, 33, 48, 70, 46, 85, 39,\n",
       "       71, 26, 87, 63, 74, 38, 27, 70, 56, 39, 84, 45, 85, 80, 66, 38, 63,\n",
       "       18, 50, 66, 25, 22, 67, 29, 37, 66, 27, 51, 56, 89, 70, 56, 68, 45,\n",
       "       40, 61, 52, 26, 21, 53, 28, 35, 43, 26, 28, 38, 88, 28, 28, 18, 27,\n",
       "       22, 81, 84, 85, 19, 40, 36, 32, 70, 86, 69, 23, 49, 83, 84, 55, 83,\n",
       "       18, 73, 83, 43, 47, 35, 52, 25, 47, 30, 51, 88, 56, 28, 26, 68, 27,\n",
       "       54, 74, 27, 19, 27, 33, 62, 52, 88, 37, 70, 87, 61, 54, 27, 57, 55,\n",
       "       75, 42, 64, 68, 80, 51, 36, 72, 81, 71, 41, 47, 76, 72, 49, 73, 36,\n",
       "       40, 47, 58, 31, 41, 25, 48, 50, 53, 69, 34, 55, 52, 79, 67, 37, 78,\n",
       "       40, 76, 18, 29, 68, 78, 68, 80, 65, 30, 58, 66, 66, 53, 42, 32, 70,\n",
       "       75, 48, 19, 82, 31, 85, 72, 70, 83, 55, 62, 71, 57, 60, 84, 78, 33,\n",
       "       27, 87, 80, 36, 73, 18, 71, 23, 33, 62, 69, 80, 35, 33, 21, 49, 78,\n",
       "       65, 44, 22, 71, 85, 68, 55, 49, 54, 89, 67, 87, 80, 37, 36, 54, 83,\n",
       "       89, 45, 34, 68, 52, 31, 31, 58, 39, 51, 63, 86, 22, 63, 33, 30, 69,\n",
       "       85, 82, 22, 69, 24, 18, 20, 41, 27, 26, 34, 63, 52, 69, 51, 88, 86,\n",
       "       43, 32, 59, 49, 21, 73, 63, 22, 87, 81, 30, 58, 33, 79, 47, 87, 42,\n",
       "       30, 57, 74, 22, 77, 20, 29, 44, 74, 47, 20, 20, 87, 50, 35, 53, 44,\n",
       "       83, 76, 84, 83, 29, 26, 36, 79, 34, 40, 88, 40, 68, 49, 61, 72, 75,\n",
       "       87, 51, 28, 70, 69, 62, 61, 31, 57, 79, 45, 87, 82, 85, 87, 27, 22,\n",
       "       67, 45, 42, 29, 22, 36, 76, 71, 68, 31, 41, 72, 78, 66, 52, 34, 85,\n",
       "       67, 56, 31, 47, 68, 80, 30, 51, 35, 56, 21, 42, 65, 20, 22, 75, 76,\n",
       "       24, 53, 38, 64, 37, 56, 88, 26, 45, 53, 87, 77, 47, 38, 25, 68, 63,\n",
       "       76, 20, 60, 81, 35, 63, 53])"
      ]
     },
     "execution_count": 14,
     "metadata": {},
     "output_type": "execute_result"
    }
   ],
   "source": [
    "ages = np.random.randint(18, high=90, size=500)\n",
    "ages"
   ]
  },
  {
   "cell_type": "code",
   "execution_count": 15,
   "metadata": {
    "collapsed": false
   },
   "outputs": [
    {
     "data": {
      "text/plain": [
       "ModeResult(mode=array([87]), count=array([15]))"
      ]
     },
     "execution_count": 15,
     "metadata": {},
     "output_type": "execute_result"
    }
   ],
   "source": [
    "from scipy import stats\n",
    "stats.mode(ages)"
   ]
  },
  {
   "cell_type": "code",
   "execution_count": null,
   "metadata": {
    "collapsed": false
   },
   "outputs": [],
   "source": [
    ""
   ]
  },
  {
   "cell_type": "code",
   "execution_count": null,
   "metadata": {
    "collapsed": true
   },
   "outputs": [],
   "source": [
    ""
   ]
  }
 ],
 "metadata": {
  "kernelspec": {
   "display_name": "Python 3",
   "language": "python",
   "name": "python3"
  },
  "language_info": {
   "codemirror_mode": {
    "name": "ipython",
    "version": 3.0
   },
   "file_extension": ".py",
   "mimetype": "text/x-python",
   "name": "python",
   "nbconvert_exporter": "python",
   "pygments_lexer": "ipython3",
   "version": "3.5.2"
  }
 },
 "nbformat": 4,
 "nbformat_minor": 0
}